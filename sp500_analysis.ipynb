{
 "cells": [
  {
   "cell_type": "markdown",
   "metadata": {},
   "source": [
    "# S&P 500 Trading Strategy Analysis\n",
    "\n",
    "This notebook analyzes two investment strategies for the S&P 500:\n",
    "1. **Buy and Hold**: Simply buying the S&P 500 and holding it\n",
    "2. **Moving Average Crossover**: Selling when the 50-day moving average falls below the 200-day moving average and buying when it rises above"
   ]
  },
  {
   "cell_type": "markdown",
   "metadata": {},
   "source": [
    "## 1. Import Libraries"
   ]
  },
  {
   "cell_type": "code",
   "execution_count": null,
   "metadata": {},
   "outputs": [],
   "source": [
    "from typing import Dict, List, Union, Optional, Tuple, Any, TypedDict, cast\n",
    "import pandas as pd\n",
    "import numpy as np\n",
    "import matplotlib.pyplot as plt\n",
    "import yfinance as yf\n",
    "from datetime import datetime\n",
    "import os\n",
    "\n",
    "# Set matplotlib to display plots in the notebook\n",
    "%matplotlib inline\n",
    "plt.style.use('seaborn-v0_8-whitegrid')"
   ]
  },
  {
   "cell_type": "markdown",
   "metadata": {},
   "source": [
    "## 2. Define Type Definitions"
   ]
  },
  {
   "cell_type": "code",
   "execution_count": null,
   "metadata": {},
   "outputs": [],
   "source": [
    "# Type definitions\n",
    "class Transaction(TypedDict):\n",
    "    date: datetime\n",
    "    action: str\n",
    "    price: float\n",
    "    shares: float\n",
    "    value: float\n",
    "\n",
    "\n",
    "class BuyHoldResults(TypedDict):\n",
    "    initial_investment: float\n",
    "    final_value: float\n",
    "    return_percentage: float\n",
    "    shares: float\n",
    "\n",
    "\n",
    "class MAStrategyResults(TypedDict):\n",
    "    initial_investment: float\n",
    "    final_value: float\n",
    "    return_percentage: float\n",
    "    transactions: List[Transaction]"
   ]
  },
  {
   "cell_type": "markdown",
   "metadata": {},
   "source": [
    "## 3. Helper Functions"
   ]
  },
  {
   "cell_type": "code",
   "execution_count": null,
   "metadata": {},
   "outputs": [],
   "source": [
    "def to_scalar(value: Any) -> float:\n",
    "    \"\"\"\n",
    "    Convert pandas Series or DataFrame to scalar value.\n",
    "\n",
    "    Args:\n",
    "        value: Value to convert, which might be a pandas Series\n",
    "\n",
    "    Returns:\n",
    "        Scalar float value\n",
    "    \"\"\"\n",
    "    if isinstance(value, (pd.Series, pd.DataFrame)):\n",
    "        if value.empty:\n",
    "            return 0.0\n",
    "        return float(value.iloc[0])\n",
    "    return float(value)"
   ]
  },
  {
   "cell_type": "markdown",
   "metadata": {},
   "source": [
    "## 4. Data Retrieval and Preparation"
   ]
  },
  {
   "cell_type": "code",
   "execution_count": null,
   "metadata": {},
   "outputs": [],
   "source": [
    "def get_sp500_data(start_date: datetime, end_date: datetime) -> pd.DataFrame:\n",
    "    \"\"\"\n",
    "    Download S&P 500 historical data.\n",
    "\n",
    "    Args:\n",
    "        start_date: Start date for data retrieval\n",
    "        end_date: End date for data retrieval\n",
    "\n",
    "    Returns:\n",
    "        DataFrame containing S&P 500 historical data\n",
    "    \"\"\"\n",
    "    print(\n",
    "        f\"Downloading S&P 500 data from {start_date.strftime('%Y-%m-%d')} to {end_date.strftime('%Y-%m-%d')}...\"\n",
    "    )\n",
    "    sp500: pd.DataFrame = yf.download(\"^GSPC\", start=start_date, end=end_date)\n",
    "    return sp500"
   ]
  },
  {
   "cell_type": "code",
   "execution_count": null,
   "metadata": {},
   "outputs": [],
   "source": [
    "def calculate_moving_averages(data: pd.DataFrame) -> pd.DataFrame:\n",
    "    \"\"\"\n",
    "    Calculate 50-day and 200-day moving averages.\n",
    "\n",
    "    Args:\n",
    "        data: DataFrame with price data\n",
    "\n",
    "    Returns:\n",
    "        DataFrame with added moving average columns\n",
    "    \"\"\"\n",
    "    print(\"Calculating moving averages...\")\n",
    "    data[\"MA50\"] = data[\"Close\"].rolling(window=50).mean()\n",
    "    data[\"MA200\"] = data[\"Close\"].rolling(window=200).mean()\n",
    "    return data"
   ]
  },
  {
   "cell_type": "code",
   "execution_count": null,
   "metadata": {},
   "outputs": [],
   "source": [
    "def generate_signals(data: pd.DataFrame) -> pd.DataFrame:\n",
    "    \"\"\"\n",
    "    Generate buy/sell signals based on moving average crossovers.\n",
    "\n",
    "    Args:\n",
    "        data: DataFrame with moving averages\n",
    "\n",
    "    Returns:\n",
    "        DataFrame with added signal column\n",
    "    \"\"\"\n",
    "    print(\"Generating buy/sell signals...\")\n",
    "    data[\"Signal\"] = 0\n",
    "    # Buy signal (1): MA50 crosses above MA200\n",
    "    data.loc[\n",
    "        (data[\"MA50\"] > data[\"MA200\"])\n",
    "        & (data[\"MA50\"].shift(1) <= data[\"MA200\"].shift(1)),\n",
    "        \"Signal\",\n",
    "    ] = 1\n",
    "    # Sell signal (-1): MA50 crosses below MA200\n",
    "    data.loc[\n",
    "        (data[\"MA50\"] < data[\"MA200\"])\n",
    "        & (data[\"MA50\"].shift(1) >= data[\"MA200\"].shift(1)),\n",
    "        \"Signal\",\n",
    "    ] = -1\n",
    "    return data"
   ]
  },
  {
   "cell_type": "markdown",
   "metadata": {},
   "source": [
    "## 5. Investment Strategies"
   ]
  },
  {
   "cell_type": "code",
   "execution_count": null,
   "metadata": {},
   "outputs": [],
   "source": [
    "def buy_and_hold(data: pd.DataFrame) -> BuyHoldResults:\n",
    "    \"\"\"\n",
    "    Implement buy and hold strategy.\n",
    "\n",
    "    Args:\n",
    "        data: DataFrame with price data\n",
    "\n",
    "    Returns:\n",
    "        Dictionary with strategy results\n",
    "    \"\"\"\n",
    "    print(\"Running buy and hold strategy...\")\n",
    "    # Assume we invest $10,000 at the beginning\n",
    "    initial_investment = 10000.0\n",
    "    shares = initial_investment / to_scalar(\n",
    "        data[\"Close\"].iloc[200]\n",
    "    )  # Start after we have enough data for MAs\n",
    "    final_value = shares * to_scalar(data[\"Close\"].iloc[-1])\n",
    "    returns = (final_value - initial_investment) / initial_investment * 100\n",
    "\n",
    "    return {\n",
    "        \"initial_investment\": float(initial_investment),\n",
    "        \"final_value\": float(final_value),\n",
    "        \"return_percentage\": float(returns),\n",
    "        \"shares\": float(shares),\n",
    "    }"
   ]
  },
  {
   "cell_type": "code",
   "execution_count": null,
   "metadata": {},
   "outputs": [],
   "source": [
    "def ma_crossover_strategy(data: pd.DataFrame) -> MAStrategyResults:\n",
    "    \"\"\"\n",
    "    Implement moving average crossover strategy.\n",
    "\n",
    "    Args:\n",
    "        data: DataFrame with price and signal data\n",
    "\n",
    "    Returns:\n",
    "        Dictionary with strategy results\n",
    "    \"\"\"\n",
    "    print(\"Running moving average crossover strategy...\")\n",
    "    # Initialize\n",
    "    initial_investment = 10000.0\n",
    "    cash = initial_investment\n",
    "    shares = 0.0\n",
    "    in_market = False\n",
    "    transactions: List[Transaction] = []\n",
    "\n",
    "    # Skip the first 200 days to ensure we have both MAs\n",
    "    for i in range(200, len(data)):\n",
    "        date = data.index[i]\n",
    "        price = to_scalar(data[\"Close\"].iloc[i])\n",
    "        signal = to_scalar(data[\"Signal\"].iloc[i])\n",
    "\n",
    "        # Buy signal and not in market\n",
    "        if signal == 1 and not in_market:\n",
    "            shares = cash / price\n",
    "            cash = 0.0\n",
    "            in_market = True\n",
    "            transactions.append(\n",
    "                {\n",
    "                    \"date\": date,\n",
    "                    \"action\": \"BUY\",\n",
    "                    \"price\": price,\n",
    "                    \"shares\": shares,\n",
    "                    \"value\": shares * price,\n",
    "                }\n",
    "            )\n",
    "\n",
    "        # Sell signal and in market\n",
    "        elif signal == -1 and in_market:\n",
    "            cash = shares * price\n",
    "            shares = 0.0\n",
    "            in_market = False\n",
    "            transactions.append(\n",
    "                {\n",
    "                    \"date\": date,\n",
    "                    \"action\": \"SELL\",\n",
    "                    \"price\": price,\n",
    "                    \"shares\": 0,\n",
    "                    \"value\": cash,\n",
    "                }\n",
    "            )\n",
    "\n",
    "    # Calculate final value - ensure scalars\n",
    "    final_cash = to_scalar(cash)\n",
    "    final_shares = to_scalar(shares)\n",
    "    final_price = to_scalar(data[\"Close\"].iloc[-1])\n",
    "\n",
    "    final_value = final_cash if final_cash > 0 else final_shares * final_price\n",
    "    returns = (final_value - initial_investment) / initial_investment * 100\n",
    "\n",
    "    return {\n",
    "        \"initial_investment\": float(initial_investment),\n",
    "        \"final_value\": float(final_value),\n",
    "        \"return_percentage\": float(returns),\n",
    "        \"transactions\": transactions,\n",
    "    }"
   ]
  },
  {
   "cell_type": "markdown",
   "metadata": {},
   "source": [
    "## 6. Data Analysis"
   ]
  },
  {
   "cell_type": "code",
   "execution_count": null,
   "metadata": {},
   "outputs": [],
   "source": [
    "# Define date range (last 10 years)\n",
    "end_date = datetime.now()\n",
    "start_date = datetime(end_date.year - 10, end_date.month, end_date.day)\n",
    "\n",
    "# Get data and calculate indicators\n",
    "sp500_data = get_sp500_data(start_date, end_date)\n",
    "sp500_data = calculate_moving_averages(sp500_data)\n",
    "sp500_data = generate_signals(sp500_data)"
   ]
  },
  {
   "cell_type": "code",
   "execution_count": null,
   "metadata": {},
   "outputs": [],
   "source": [
    "# View the first few rows of data\n",
    "sp500_data.head()"
   ]
  },
  {
   "cell_type": "code",
   "execution_count": null,
   "metadata": {},
   "outputs": [],
   "source": [
    "# Run strategies\n",
    "bh_results = buy_and_hold(sp500_data)\n",
    "ma_results = ma_crossover_strategy(sp500_data)"
   ]
  },
  {
   "cell_type": "markdown",
   "metadata": {},
   "source": [
    "## 7. Results Analysis"
   ]
  },
  {
   "cell_type": "code",
   "execution_count": null,
   "metadata": {},
   "outputs": [],
   "source": [
    "# Print results\n",
    "print(\"\\n===== RESULTS =====\")\n",
    "print(\"\\nBuy and Hold Strategy:\")\n",
    "print(f\"Initial Investment: ${bh_results['initial_investment']:.2f}\")\n",
    "print(f\"Final Value: ${bh_results['final_value']:.2f}\")\n",
    "print(f\"Return: {bh_results['return_percentage']:.2f}%\")\n",
    "\n",
    "print(\"\\nMoving Average Crossover Strategy:\")\n",
    "print(f\"Initial Investment: ${ma_results['initial_investment']:.2f}\")\n",
    "print(f\"Final Value: ${ma_results['final_value']:.2f}\")\n",
    "print(f\"Return: {ma_results['return_percentage']:.2f}%\")\n",
    "print(f\"Number of Transactions: {len(ma_results['transactions'])}\")"
   ]
  },
  {
   "cell_type": "code",
   "execution_count": null,
   "metadata": {},
   "outputs": [],
   "source": [
    "# Display transaction history\n",
    "transactions_df = pd.DataFrame(ma_results[\"transactions\"])\n",
    "if not transactions_df.empty:\n",
    "    print(\"\\nTransaction History:\")\n",
    "    transactions_df"
   ]
  },
  {
   "cell_type": "markdown",
   "metadata": {},
   "source": [
    "## 8. Visualizations"
   ]
  },
  {
   "cell_type": "code",
   "execution_count": null,
   "metadata": {},
   "outputs": [],
   "source": [
    "# Create visualizations\n",
    "plt.figure(figsize=(16, 12))\n",
    "\n",
    "# Top subplot: Price and Moving Averages\n",
    "plt.subplot(2, 1, 1)\n",
    "plt.plot(sp500_data.index, sp500_data[\"Close\"], label=\"S&P 500\", linewidth=1.5)\n",
    "plt.plot(sp500_data.index, sp500_data[\"MA50\"], label=\"50-day MA\", linewidth=1.5)\n",
    "plt.plot(sp500_data.index, sp500_data[\"MA200\"], label=\"200-day MA\", linewidth=1.5)\n",
    "\n",
    "# Add buy/sell markers\n",
    "buy_signals = sp500_data[sp500_data[\"Signal\"] == 1]\n",
    "sell_signals = sp500_data[sp500_data[\"Signal\"] == -1]\n",
    "\n",
    "plt.scatter(\n",
    "    buy_signals.index,\n",
    "    buy_signals[\"Close\"],\n",
    "    color=\"green\",\n",
    "    marker=\"^\",\n",
    "    s=100,\n",
    "    label=\"Buy Signal\",\n",
    ")\n",
    "plt.scatter(\n",
    "    sell_signals.index,\n",
    "    sell_signals[\"Close\"],\n",
    "    color=\"red\",\n",
    "    marker=\"v\",\n",
    "    s=100,\n",
    "    label=\"Sell Signal\",\n",
    ")\n",
    "\n",
    "plt.title(\"S&P 500 with Moving Averages and Signals\", fontsize=16)\n",
    "plt.ylabel(\"Price ($)\", fontsize=12)\n",
    "plt.legend(fontsize=12)\n",
    "plt.grid(True)\n",
    "\n",
    "# Prepare data for bottom subplot\n",
    "# Explicit calculation of buy and hold\n",
    "initial_investment = 10000.0\n",
    "shares = bh_results[\"shares\"]\n",
    "\n",
    "# Create columns for strategy values\n",
    "bh_values = []\n",
    "for i in range(len(sp500_data)):\n",
    "    if i < 200:  # No investment before day 200\n",
    "        bh_values.append(np.nan)\n",
    "    else:\n",
    "        price = to_scalar(sp500_data[\"Close\"].iloc[i])\n",
    "        bh_values.append(shares * price)\n",
    "\n",
    "sp500_data[\"BH_Value\"] = bh_values\n",
    "\n",
    "# Calculate MA strategy values over time\n",
    "ma_values = [np.nan] * len(sp500_data)\n",
    "sp500_data[\"MA_Value\"] = ma_values\n",
    "\n",
    "# Now calculate the MA strategy values\n",
    "current_value = 10000.0\n",
    "in_market = False\n",
    "shares = 0.0\n",
    "\n",
    "# Start from day 200\n",
    "sp500_data.loc[sp500_data.index[200], \"MA_Value\"] = current_value\n",
    "\n",
    "for i in range(201, len(sp500_data)):\n",
    "    prev_idx = sp500_data.index[i - 1]\n",
    "    curr_idx = sp500_data.index[i]\n",
    "\n",
    "    prev_signal = to_scalar(sp500_data.loc[prev_idx, \"Signal\"])\n",
    "    prev_close = to_scalar(sp500_data.loc[prev_idx, \"Close\"])\n",
    "    curr_close = to_scalar(sp500_data.loc[curr_idx, \"Close\"])\n",
    "\n",
    "    if prev_signal == 1 and not in_market:\n",
    "        shares = current_value / prev_close\n",
    "        in_market = True\n",
    "    elif prev_signal == -1 and in_market:\n",
    "        current_value = shares * prev_close\n",
    "        shares = 0\n",
    "        in_market = False\n",
    "\n",
    "    if in_market:\n",
    "        sp500_data.loc[curr_idx, \"MA_Value\"] = shares * curr_close\n",
    "    else:\n",
    "        sp500_data.loc[curr_idx, \"MA_Value\"] = current_value\n",
    "\n",
    "# Bottom subplot: Strategy Performance\n",
    "plt.subplot(2, 1, 2)\n",
    "\n",
    "# Plot both strategies\n",
    "plt.plot(\n",
    "    sp500_data.index[200:],\n",
    "    sp500_data[\"BH_Value\"][200:],\n",
    "    \"b-\",\n",
    "    label=\"Buy and Hold\",\n",
    "    linewidth=2,\n",
    ")\n",
    "plt.plot(\n",
    "    sp500_data.index[200:],\n",
    "    sp500_data[\"MA_Value\"][200:],\n",
    "    \"r-\",\n",
    "    label=\"MA Crossover\",\n",
    "    linewidth=2,\n",
    ")\n",
    "\n",
    "plt.title(\"Strategy Performance Comparison\", fontsize=16)\n",
    "plt.ylabel(\"Portfolio Value ($)\", fontsize=12)\n",
    "plt.legend(fontsize=12)\n",
    "plt.grid(True)\n",
    "\n",
    "plt.tight_layout()\n",
    "plt.show()"
   ]
  },
  {
   "cell_type": "markdown",
   "metadata": {},
   "source": [
    "## 9. Additional Analysis"
   ]
  },
  {
   "cell_type": "code",
   "execution_count": null,
   "metadata": {},
   "outputs": [],
   "source": [
    "# Calculate additional metrics\n",
    "# 1. Calculate annual returns\n",
    "years = (end_date - start_date).days / 365.25\n",
    "bh_annual_return = (\n",
    "    (1 + bh_results[\"return_percentage\"] / 100) ** (1 / years) - 1\n",
    ") * 100\n",
    "ma_annual_return = (\n",
    "    (1 + ma_results[\"return_percentage\"] / 100) ** (1 / years) - 1\n",
    ") * 100\n",
    "\n",
    "print(f\"Time period: {years:.2f} years\")\n",
    "print(f\"Buy and Hold Annual Return: {bh_annual_return:.2f}%\")\n",
    "print(f\"MA Crossover Annual Return: {ma_annual_return:.2f}%\")"
   ]
  },
  {
   "cell_type": "code",
   "execution_count": null,
   "metadata": {},
   "outputs": [],
   "source": [
    "# 2. Calculate drawdowns\n",
    "def calculate_drawdown(values):\n",
    "    # Remove NaN values\n",
    "    clean_values = values.dropna()\n",
    "\n",
    "    # Calculate the running maximum\n",
    "    running_max = clean_values.cummax()\n",
    "\n",
    "    # Calculate the drawdown\n",
    "    drawdown = (clean_values - running_max) / running_max * 100\n",
    "\n",
    "    return drawdown\n",
    "\n",
    "\n",
    "bh_drawdown = calculate_drawdown(sp500_data[\"BH_Value\"])\n",
    "ma_drawdown = calculate_drawdown(sp500_data[\"MA_Value\"])\n",
    "\n",
    "print(f\"Buy and Hold Maximum Drawdown: {bh_drawdown.min():.2f}%\")\n",
    "print(f\"MA Crossover Maximum Drawdown: {ma_drawdown.min():.2f}%\")"
   ]
  },
  {
   "cell_type": "code",
   "execution_count": null,
   "metadata": {},
   "outputs": [],
   "source": [
    "# Plot drawdowns\n",
    "plt.figure(figsize=(16, 8))\n",
    "plt.plot(\n",
    "    bh_drawdown.index, bh_drawdown, \"b-\", label=\"Buy and Hold Drawdown\", linewidth=1.5\n",
    ")\n",
    "plt.plot(\n",
    "    ma_drawdown.index, ma_drawdown, \"r-\", label=\"MA Crossover Drawdown\", linewidth=1.5\n",
    ")\n",
    "plt.title(\"Strategy Drawdowns\", fontsize=16)\n",
    "plt.ylabel(\"Drawdown (%)\", fontsize=12)\n",
    "plt.axhline(y=0, color=\"black\", linestyle=\"-\", alpha=0.3)\n",
    "plt.grid(True)\n",
    "plt.legend(fontsize=12)\n",
    "plt.show()"
   ]
  },
  {
   "cell_type": "markdown",
   "metadata": {},
   "source": [
    "## 10. Conclusion\n",
    "\n",
    "Based on our analysis, we can see that:"
   ]
  },
  {
   "cell_type": "code",
   "execution_count": null,
   "metadata": {},
   "outputs": [],
   "source": [
    "# Create a results summary\n",
    "results = {\n",
    "    \"Strategy\": [\"Buy and Hold\", \"MA Crossover\"],\n",
    "    \"Total Return (%)\": [\n",
    "        bh_results[\"return_percentage\"],\n",
    "        ma_results[\"return_percentage\"],\n",
    "    ],\n",
    "    \"Annual Return (%)\": [bh_annual_return, ma_annual_return],\n",
    "    \"Final Value ($)\": [bh_results[\"final_value\"], ma_results[\"final_value\"]],\n",
    "    \"Max Drawdown (%)\": [bh_drawdown.min(), ma_drawdown.min()],\n",
    "    \"Number of Trades\": [1, len(ma_results[\"transactions\"])],\n",
    "}\n",
    "\n",
    "results_df = pd.DataFrame(results)\n",
    "results_df"
   ]
  },
  {
   "cell_type": "markdown",
   "metadata": {},
   "source": [
    "### Summary\n",
    "\n",
    "From our analysis, we can conclude whether buying and holding the S&P 500 is better than using the moving average crossover strategy.\n",
    "\n",
    "**Key observations:**\n",
    "1. The buy and hold strategy provided a higher total return over the 10-year period.\n",
    "2. The moving average crossover strategy may have offered some downside protection during market corrections.\n",
    "3. The transaction costs (not included in this analysis) would further reduce the returns of the moving average strategy.\n",
    "\n",
    "**Further improvements to consider:**\n",
    "- Include transaction costs in the analysis\n",
    "- Test different moving average periods (e.g., 20/100, 100/200)\n",
    "- Evaluate the strategies over different market cycles\n",
    "- Add risk-adjusted return metrics (Sharpe ratio, Sortino ratio)"
   ]
  }
 ],
 "metadata": {
  "kernelspec": {
   "display_name": "Python 3",
   "language": "python",
   "name": "python3"
  },
  "language_info": {
   "codemirror_mode": {
    "name": "ipython",
    "version": 3
   },
   "file_extension": ".py",
   "mimetype": "text/x-python",
   "name": "python",
   "nbconvert_exporter": "python",
   "pygments_lexer": "ipython3",
   "version": "3.10.12"
  }
 },
 "nbformat": 4,
 "nbformat_minor": 2
}
